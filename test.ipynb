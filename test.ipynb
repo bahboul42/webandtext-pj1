{
 "cells": [
  {
   "cell_type": "code",
   "execution_count": 1,
   "metadata": {},
   "outputs": [],
   "source": [
    "import torch.nn as nn\n",
    "import torch\n",
    "import numpy as np\n",
    "\n",
    "import torch.nn.functional as F\n",
    "import re\n",
    "from torch.utils.data import DataLoader, Dataset\n",
    "\n",
    "\n",
    "with open('hp.txt', 'r', encoding='UTF-8') as f:\n",
    "    train_data = f.read()\n",
    "\n",
    "# Split train_data into words\n",
    "train_data = re.findall(r'\\w+|[^\\s\\w]', train_data)\n",
    "words_available = sorted(list(set(train_data)))\n",
    "stoi = {word: i for i, word in enumerate(words_available)}\n",
    "itos = {i: word for i, word in enumerate(words_available)}\n",
    "train_data = [stoi[word] for word in train_data]\n",
    "\n",
    "# Only use the first 10000 words\n",
    "train_data = train_data[:256]\n",
    "\n",
    "vocab_size = len(words_available)\n",
    "\n",
    "\n",
    "encode = lambda s: [stoi[c] for c in s]\n",
    "decode = lambda l: \"\".join([itos[i] for i in l])\n",
    "\n"
   ]
  },
  {
   "cell_type": "code",
   "execution_count": 2,
   "metadata": {},
   "outputs": [],
   "source": [
    "class LanguageModelOneHot(nn.Module):\n",
    "    def __init__(self, vocab_size, hidden_dim, num_layers, rnn_type='LSTM'):\n",
    "        super(LanguageModelOneHot, self).__init__()\n",
    "\n",
    "        if rnn_type == 'LSTM':\n",
    "            self.rnn = nn.LSTM(vocab_size, hidden_dim, num_layers, batch_first=True) # [batch_size, seq_length, vocab_size] -> [batch_size, seq_length, hidden_dim]\n",
    "        elif rnn_type == 'GRU':\n",
    "            self.rnn = nn.GRU(vocab_size, hidden_dim, num_layers, batch_first=True)\n",
    "        else:\n",
    "            raise ValueError(\"Invalid RNN type. Choose 'LSTM' or 'GRU'.\")\n",
    "        \n",
    "        self.fc = nn.Linear(hidden_dim, vocab_size)\n",
    "        \n",
    "    def forward(self, x, hidden):\n",
    "        embeds =  F.one_hot(x, num_classes=vocab_size).float()\n",
    "        out, hidden = self.rnn(embeds, hidden)\n",
    "        print(out.shape, out.size(2))\n",
    "        out = out.reshape(-1, out.size(2))\n",
    "        out = self.fc(out)\n",
    "        return out, hidden\n",
    "    \n",
    "class LanguageModelWord2Vec(nn.Module):\n",
    "    def __init__(self, vocab_size, hidden_dim, num_layers, rnn_type='LSTM'):\n",
    "        super(LanguageModelWord2Vec, self).__init__()\n",
    "        embedding_dim = 150\n",
    "        self.embedding = nn.Embedding(vocab_size, embedding_dim)\n",
    "        if rnn_type == 'LSTM':\n",
    "            self.rnn = nn.LSTM(embedding_dim, hidden_dim, num_layers, batch_first=True)\n",
    "        elif rnn_type == 'GRU':\n",
    "            self.rnn = nn.GRU(embedding_dim, hidden_dim, num_layers, batch_first=True)\n",
    "        else:\n",
    "            raise ValueError(\"Invalid RNN type. Choose 'LSTM' or 'GRU'.\")\n",
    "        \n",
    "        self.fc = nn.Linear(hidden_dim, vocab_size)\n",
    "        \n",
    "    def forward(self, x, hidden):\n",
    "        # x shape: (batch_size, seq_length)\n",
    "        embeds = self.embedding(x)\n",
    "        # embeds shape: (batch_size, seq_length, embedding_dim)\n",
    "        out, hidden = self.rnn(embeds, hidden)\n",
    "        # out shape: (batch_size, seq_length, hidden_dim)\n",
    "        out = out.reshape(-1, self.hidden_dim)\n",
    "        # out shape: (batch_size * seq_length, hidden_dim)\n",
    "        out = self.fc(out)\n",
    "        # out shape: (batch_size * seq_length, vocab_size)\n",
    "        return out, hidden\n",
    "\n"
   ]
  },
  {
   "cell_type": "code",
   "execution_count": 15,
   "metadata": {},
   "outputs": [
    {
     "data": {
      "text/plain": [
       "(tensor([[0.7637, 0.2483, 0.2139, 0.1792],\n",
       "         [0.0376, 0.0066, 0.5990, 0.9720],\n",
       "         [0.0786, 0.2853, 0.4016, 0.5859],\n",
       "         [0.4735, 0.8030, 0.4022, 0.3367],\n",
       "         [0.8691, 0.5317, 0.3498, 0.0520],\n",
       "         [0.6167, 0.3746, 0.1357, 0.1192]]),\n",
       " tensor([[[0.7637, 0.2483, 0.2139, 0.1792],\n",
       "          [0.0376, 0.0066, 0.5990, 0.9720],\n",
       "          [0.0786, 0.2853, 0.4016, 0.5859]],\n",
       " \n",
       "         [[0.4735, 0.8030, 0.4022, 0.3367],\n",
       "          [0.8691, 0.5317, 0.3498, 0.0520],\n",
       "          [0.6167, 0.3746, 0.1357, 0.1192]]]))"
      ]
     },
     "execution_count": 15,
     "metadata": {},
     "output_type": "execute_result"
    }
   ],
   "source": [
    "test1 = torch.rand(2, 3, 4).float()\n",
    "test1.reshape(-1, 4), test1"
   ]
  }
 ],
 "metadata": {
  "kernelspec": {
   "display_name": "wet",
   "language": "python",
   "name": "python3"
  },
  "language_info": {
   "codemirror_mode": {
    "name": "ipython",
    "version": 3
   },
   "file_extension": ".py",
   "mimetype": "text/x-python",
   "name": "python",
   "nbconvert_exporter": "python",
   "pygments_lexer": "ipython3",
   "version": "3.12.7"
  }
 },
 "nbformat": 4,
 "nbformat_minor": 2
}
